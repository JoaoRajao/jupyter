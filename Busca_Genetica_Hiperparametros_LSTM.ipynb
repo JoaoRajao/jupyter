{
 "cells": [
  {
   "cell_type": "markdown",
   "id": "3fbec4c9",
   "metadata": {},
   "source": [
    "# Busca de Hiperparâmetros com Algoritmo Genético para LSTM (PyTorch)\n",
    "Este notebook aplica um algoritmo genético simples para encontrar os melhores hiperparâmetros de uma rede LSTM que prevê o número mensal de crimes em Toronto."
   ]
  },
  {
   "cell_type": "code",
   "execution_count": 9,
   "id": "68e67ca8",
   "metadata": {},
   "outputs": [],
   "source": [
    "import pandas as pd\n",
    "import numpy as np\n",
    "import matplotlib.pyplot as plt\n",
    "from sklearn.preprocessing import MinMaxScaler\n",
    "from sklearn.model_selection import train_test_split\n",
    "from sklearn.metrics import mean_squared_error\n",
    "import torch\n",
    "import torch.nn as nn\n",
    "from torch.utils.data import DataLoader, TensorDataset\n",
    "import random, warnings\n",
    "warnings.filterwarnings('ignore')\n",
    "device = 'cuda' if torch.cuda.is_available() else 'cpu'"
   ]
  },
  {
   "cell_type": "code",
   "execution_count": 10,
   "id": "edd95456",
   "metadata": {},
   "outputs": [
    {
     "name": "stdout",
     "output_type": "stream",
     "text": [
      "            count    scaled\n",
      "OCC_DATE                   \n",
      "2014-01-31   2601  0.202855\n",
      "2014-02-28   2262  0.056228\n",
      "2014-03-31   2508  0.162630\n",
      "2014-04-30   2576  0.192042\n",
      "2014-05-31   2914  0.338235\n"
     ]
    }
   ],
   "source": [
    "df = pd.read_csv('C:/Users/peder/Downloads/major-crime-indicators.csv', on_bad_lines='skip', parse_dates=['OCC_DATE'])\n",
    "df = df[df['OCC_DATE'].notna()].sort_values('OCC_DATE')\n",
    "ts = df.set_index('OCC_DATE').resample('M').size().to_frame('count')\n",
    "ts = ts[ts.index >= '2014-01-01']\n",
    "scaler = MinMaxScaler()\n",
    "ts['scaled'] = scaler.fit_transform(ts[['count']])\n",
    "data = ts['scaled'].values\n",
    "print(ts.head())"
   ]
  },
  {
   "cell_type": "code",
   "execution_count": 11,
   "id": "aa3e4764",
   "metadata": {},
   "outputs": [],
   "source": [
    "def create_sequences(data, window_size):\n",
    "    X, y = [], []\n",
    "    for i in range(window_size, len(data)):\n",
    "        X.append(data[i-window_size:i])\n",
    "        y.append(data[i])\n",
    "    return np.array(X), np.array(y)"
   ]
  },
  {
   "cell_type": "code",
   "execution_count": 12,
   "id": "e7928fa7",
   "metadata": {},
   "outputs": [],
   "source": [
    "class LSTMModel(nn.Module):\n",
    "    def __init__(self, input_size, hidden_size, dropout):\n",
    "        super().__init__()\n",
    "        self.lstm = nn.LSTM(input_size, hidden_size, batch_first=True)\n",
    "        self.dropout = nn.Dropout(dropout)\n",
    "        self.linear = nn.Linear(hidden_size, 1)\n",
    "\n",
    "    def forward(self, x):\n",
    "        out, _ = self.lstm(x)\n",
    "        out = self.dropout(out[:, -1, :])\n",
    "        return self.linear(out).squeeze()"
   ]
  },
  {
   "cell_type": "code",
   "execution_count": 13,
   "id": "d67ba07e",
   "metadata": {},
   "outputs": [],
   "source": [
    "def evaluate_model(hidden_size, dropout, lr, batch_size, epochs, window_size):\n",
    "    X, y = create_sequences(data, window_size)\n",
    "    if len(X) == 0: return float('inf')\n",
    "    X_train, X_val, y_train, y_val = train_test_split(X, y, test_size=0.2, shuffle=False)\n",
    "    X_train = torch.tensor(X_train, dtype=torch.float32).unsqueeze(-1)\n",
    "    y_train = torch.tensor(y_train, dtype=torch.float32)\n",
    "    X_val = torch.tensor(X_val, dtype=torch.float32).unsqueeze(-1)\n",
    "    y_val = torch.tensor(y_val, dtype=torch.float32)\n",
    "    train_loader = DataLoader(TensorDataset(X_train, y_train), batch_size=batch_size, shuffle=False)\n",
    "    val_loader = DataLoader(TensorDataset(X_val, y_val), batch_size=batch_size, shuffle=False)\n",
    "    model = LSTMModel(1, hidden_size, dropout).to(device)\n",
    "    criterion = nn.MSELoss()\n",
    "    optimizer = torch.optim.Adam(model.parameters(), lr=lr)\n",
    "    for _ in range(epochs):\n",
    "        model.train()\n",
    "        for X_batch, y_batch in train_loader:\n",
    "            X_batch, y_batch = X_batch.to(device), y_batch.to(device)\n",
    "            optimizer.zero_grad()\n",
    "            output = model(X_batch)\n",
    "            loss = criterion(output, y_batch)\n",
    "            loss.backward()\n",
    "            optimizer.step()\n",
    "    model.eval()\n",
    "    predictions, actuals = [], []\n",
    "    with torch.no_grad():\n",
    "        for X_batch, y_batch in val_loader:\n",
    "            output = model(X_batch.to(device))\n",
    "            predictions.extend(output.cpu().numpy())\n",
    "            actuals.extend(y_batch.numpy())\n",
    "    rmse = np.sqrt(mean_squared_error(actuals, predictions))\n",
    "    return rmse"
   ]
  },
  {
   "cell_type": "code",
   "execution_count": 14,
   "id": "bea6a11b",
   "metadata": {},
   "outputs": [
    {
     "name": "stdout",
     "output_type": "stream",
     "text": [
      "\n",
      "🧬 Geração 1\n",
      "{'hidden_size': 32, 'dropout': 0.1, 'lr': 0.001, 'batch_size': 8, 'epochs': 100, 'window_size': 6} -> RMSE: 0.1028\n",
      "{'hidden_size': 32, 'dropout': 0.1, 'lr': 0.005, 'batch_size': 8, 'epochs': 50, 'window_size': 12} -> RMSE: 0.0992\n",
      "{'hidden_size': 64, 'dropout': 0.3, 'lr': 0.005, 'batch_size': 8, 'epochs': 10, 'window_size': 6} -> RMSE: 0.1326\n",
      "{'hidden_size': 128, 'dropout': 0.2, 'lr': 0.001, 'batch_size': 16, 'epochs': 500, 'window_size': 6} -> RMSE: 0.2168\n",
      "{'hidden_size': 128, 'dropout': 0.2, 'lr': 0.005, 'batch_size': 16, 'epochs': 1000, 'window_size': 12} -> RMSE: 0.1169\n",
      "{'hidden_size': 128, 'dropout': 0.3, 'lr': 0.005, 'batch_size': 8, 'epochs': 250, 'window_size': 12} -> RMSE: 0.1730\n",
      "{'hidden_size': 64, 'dropout': 0.1, 'lr': 0.005, 'batch_size': 8, 'epochs': 500, 'window_size': 6} -> RMSE: 0.1692\n",
      "{'hidden_size': 64, 'dropout': 0.1, 'lr': 0.001, 'batch_size': 8, 'epochs': 1000, 'window_size': 6} -> RMSE: 0.1824\n",
      "\n",
      "🧬 Geração 2\n",
      "{'hidden_size': 32, 'dropout': 0.1, 'lr': 0.005, 'batch_size': 8, 'epochs': 50, 'window_size': 12} -> RMSE: 0.0970\n",
      "{'hidden_size': 32, 'dropout': 0.1, 'lr': 0.001, 'batch_size': 8, 'epochs': 100, 'window_size': 6} -> RMSE: 0.1085\n",
      "{'hidden_size': 128, 'dropout': 0.2, 'lr': 0.005, 'batch_size': 16, 'epochs': 1000, 'window_size': 12} -> RMSE: 0.1434\n",
      "{'hidden_size': 64, 'dropout': 0.3, 'lr': 0.005, 'batch_size': 8, 'epochs': 10, 'window_size': 6} -> RMSE: 0.1434\n",
      "{'hidden_size': 32, 'dropout': 0.1, 'lr': 0.005, 'batch_size': 8, 'epochs': 50, 'window_size': 12} -> RMSE: 0.0932\n",
      "{'hidden_size': 32, 'dropout': 0.1, 'lr': 0.005, 'batch_size': 8, 'epochs': 50, 'window_size': 12} -> RMSE: 0.1021\n",
      "{'hidden_size': 128, 'dropout': 0.2, 'lr': 0.005, 'batch_size': 16, 'epochs': 1000, 'window_size': 6} -> RMSE: 0.1158\n",
      "{'hidden_size': 128, 'dropout': 0.2, 'lr': 0.005, 'batch_size': 16, 'epochs': 1000, 'window_size': 12} -> RMSE: 0.1536\n",
      "\n",
      "🧬 Geração 3\n",
      "{'hidden_size': 32, 'dropout': 0.1, 'lr': 0.005, 'batch_size': 8, 'epochs': 50, 'window_size': 12} -> RMSE: 0.0938\n",
      "{'hidden_size': 32, 'dropout': 0.1, 'lr': 0.005, 'batch_size': 8, 'epochs': 50, 'window_size': 12} -> RMSE: 0.0976\n",
      "{'hidden_size': 32, 'dropout': 0.1, 'lr': 0.005, 'batch_size': 8, 'epochs': 50, 'window_size': 12} -> RMSE: 0.0969\n",
      "{'hidden_size': 32, 'dropout': 0.1, 'lr': 0.001, 'batch_size': 8, 'epochs': 100, 'window_size': 6} -> RMSE: 0.1039\n",
      "{'hidden_size': 32, 'dropout': 0.2, 'lr': 0.005, 'batch_size': 8, 'epochs': 50, 'window_size': 12} -> RMSE: 0.1151\n",
      "{'hidden_size': 64, 'dropout': 0.1, 'lr': 0.005, 'batch_size': 8, 'epochs': 50, 'window_size': 12} -> RMSE: 0.0972\n",
      "{'hidden_size': 32, 'dropout': 0.1, 'lr': 0.005, 'batch_size': 8, 'epochs': 100, 'window_size': 12} -> RMSE: 0.1836\n",
      "{'hidden_size': 64, 'dropout': 0.1, 'lr': 0.005, 'batch_size': 8, 'epochs': 100, 'window_size': 12} -> RMSE: 0.1170\n",
      "\n",
      "🧬 Geração 4\n",
      "{'hidden_size': 32, 'dropout': 0.1, 'lr': 0.005, 'batch_size': 8, 'epochs': 50, 'window_size': 12} -> RMSE: 0.0954\n",
      "{'hidden_size': 32, 'dropout': 0.1, 'lr': 0.005, 'batch_size': 8, 'epochs': 50, 'window_size': 12} -> RMSE: 0.1074\n",
      "{'hidden_size': 64, 'dropout': 0.1, 'lr': 0.005, 'batch_size': 8, 'epochs': 50, 'window_size': 12} -> RMSE: 0.1940\n",
      "{'hidden_size': 32, 'dropout': 0.1, 'lr': 0.005, 'batch_size': 8, 'epochs': 50, 'window_size': 12} -> RMSE: 0.0980\n",
      "{'hidden_size': 32, 'dropout': 0.1, 'lr': 0.005, 'batch_size': 8, 'epochs': 50, 'window_size': 12} -> RMSE: 0.1083\n",
      "{'hidden_size': 32, 'dropout': 0.1, 'lr': 0.005, 'batch_size': 8, 'epochs': 50, 'window_size': 12} -> RMSE: 0.0993\n",
      "{'hidden_size': 32, 'dropout': 0.3, 'lr': 0.005, 'batch_size': 8, 'epochs': 50, 'window_size': 12} -> RMSE: 0.1009\n",
      "{'hidden_size': 32, 'dropout': 0.1, 'lr': 0.005, 'batch_size': 8, 'epochs': 50, 'window_size': 12} -> RMSE: 0.1041\n",
      "\n",
      "🧬 Geração 5\n",
      "{'hidden_size': 32, 'dropout': 0.1, 'lr': 0.005, 'batch_size': 8, 'epochs': 50, 'window_size': 12} -> RMSE: 0.0989\n",
      "{'hidden_size': 32, 'dropout': 0.1, 'lr': 0.005, 'batch_size': 8, 'epochs': 50, 'window_size': 12} -> RMSE: 0.1310\n",
      "{'hidden_size': 32, 'dropout': 0.1, 'lr': 0.005, 'batch_size': 8, 'epochs': 50, 'window_size': 12} -> RMSE: 0.1031\n",
      "{'hidden_size': 32, 'dropout': 0.3, 'lr': 0.005, 'batch_size': 8, 'epochs': 50, 'window_size': 12} -> RMSE: 0.1007\n",
      "{'hidden_size': 32, 'dropout': 0.2, 'lr': 0.005, 'batch_size': 8, 'epochs': 50, 'window_size': 12} -> RMSE: 0.0970\n",
      "{'hidden_size': 32, 'dropout': 0.1, 'lr': 0.005, 'batch_size': 8, 'epochs': 50, 'window_size': 12} -> RMSE: 0.0972\n",
      "{'hidden_size': 32, 'dropout': 0.1, 'lr': 0.005, 'batch_size': 8, 'epochs': 5, 'window_size': 12} -> RMSE: 0.2839\n",
      "{'hidden_size': 32, 'dropout': 0.1, 'lr': 0.001, 'batch_size': 8, 'epochs': 50, 'window_size': 12} -> RMSE: 0.1131\n",
      "\n",
      "Melhor configuração encontrada: {'hidden_size': 32, 'dropout': 0.2, 'lr': 0.005, 'batch_size': 8, 'epochs': 50, 'window_size': 12} com RMSE=0.0970\n"
     ]
    }
   ],
   "source": [
    "# Algoritmo Genético para busca\n",
    "population_size = 8\n",
    "generations = 5\n",
    "param_space = {\n",
    "    'hidden_size': [32, 64, 128],\n",
    "    'dropout': [0.1, 0.2, 0.3],\n",
    "    'lr': [0.001, 0.005],\n",
    "    'batch_size': [8, 16],\n",
    "    'epochs': [5, 10, 15, 50, 100, 250 , 500, 1000],\n",
    "    'window_size': [6, 12]\n",
    "}\n",
    "\n",
    "def random_individual():\n",
    "    return {k: random.choice(v) for k, v in param_space.items()}\n",
    "\n",
    "population = [random_individual() for _ in range(population_size)]\n",
    "for gen in range(generations):\n",
    "    print(f\"\\n🧬 Geração {gen+1}\")\n",
    "    scored = []\n",
    "    for ind in population:\n",
    "        score = evaluate_model(**ind)\n",
    "        scored.append((score, ind))\n",
    "        print(f\"{ind} -> RMSE: {score:.4f}\")\n",
    "    scored.sort()\n",
    "    population = [scored[i][1] for i in range(population_size//2)]\n",
    "    while len(population) < population_size:\n",
    "        parent = random.choice(population)\n",
    "        child = parent.copy()\n",
    "        key = random.choice(list(param_space.keys()))\n",
    "        child[key] = random.choice(param_space[key])\n",
    "        population.append(child)\n",
    "print(f\"\\nMelhor configuração encontrada: {scored[0][1]} com RMSE={scored[0][0]:.4f}\")"
   ]
  }
 ],
 "metadata": {
  "kernelspec": {
   "display_name": "Python 3",
   "language": "python",
   "name": "python3"
  },
  "language_info": {
   "codemirror_mode": {
    "name": "ipython",
    "version": 3
   },
   "file_extension": ".py",
   "mimetype": "text/x-python",
   "name": "python",
   "nbconvert_exporter": "python",
   "pygments_lexer": "ipython3",
   "version": "3.13.3"
  }
 },
 "nbformat": 4,
 "nbformat_minor": 5
}
